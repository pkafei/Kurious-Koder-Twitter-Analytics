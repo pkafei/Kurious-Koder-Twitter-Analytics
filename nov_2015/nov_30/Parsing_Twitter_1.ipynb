{
 "cells": [
  {
   "cell_type": "code",
   "execution_count": 1,
   "metadata": {
    "collapsed": false
   },
   "outputs": [],
   "source": [
    "import json\n",
    "import pandas as pd\n",
    "import re\n",
    "\n",
    "%matplotlib inline\n",
    "import matplotlib\n",
    "import numpy as np\n",
    "import matplotlib.pyplot as plt"
   ]
  },
  {
   "cell_type": "code",
   "execution_count": 2,
   "metadata": {
    "collapsed": false
   },
   "outputs": [
    {
     "name": "stdout",
     "output_type": "stream",
     "text": [
      "Populating the interactive namespace from numpy and matplotlib\n"
     ]
    }
   ],
   "source": [
    "%pylab inline\n",
    "pd.set_option('display.mpl_style', 'default') "
   ]
  },
  {
   "cell_type": "code",
   "execution_count": 3,
   "metadata": {
    "collapsed": true
   },
   "outputs": [],
   "source": [
    "raw_data = 'fashion_brands.txt'"
   ]
  },
  {
   "cell_type": "code",
   "execution_count": 4,
   "metadata": {
    "collapsed": true
   },
   "outputs": [],
   "source": [
    "tweets_data = []"
   ]
  },
  {
   "cell_type": "code",
   "execution_count": 5,
   "metadata": {
    "collapsed": false
   },
   "outputs": [
    {
     "name": "stdout",
     "output_type": "stream",
     "text": [
      "4555\n"
     ]
    }
   ],
   "source": [
    "tweets_file = open(raw_data, \"r\")\n",
    "for line in tweets_file:\n",
    "    try:\n",
    "        tweet = json.loads(line)\n",
    "        tweets_data.append(tweet)\n",
    "    except:\n",
    "        continue\n",
    "print(len(tweets_data))"
   ]
  },
  {
   "cell_type": "code",
   "execution_count": 6,
   "metadata": {
    "collapsed": false
   },
   "outputs": [
    {
     "data": {
      "text/plain": [
       "list"
      ]
     },
     "execution_count": 6,
     "metadata": {},
     "output_type": "execute_result"
    }
   ],
   "source": [
    "type(tweets_data)"
   ]
  },
  {
   "cell_type": "code",
   "execution_count": 8,
   "metadata": {
    "collapsed": false
   },
   "outputs": [],
   "source": [
    "tweet_df = pd.DataFrame(tweets_data, columns=[\"created_at\", \"lang\", \"text\"]).set_index(\"created_at\")  "
   ]
  },
  {
   "cell_type": "code",
   "execution_count": 9,
   "metadata": {
    "collapsed": false
   },
   "outputs": [
    {
     "data": {
      "text/html": [
       "<div>\n",
       "<table border=\"1\" class=\"dataframe\">\n",
       "  <thead>\n",
       "    <tr style=\"text-align: right;\">\n",
       "      <th></th>\n",
       "      <th>lang</th>\n",
       "      <th>text</th>\n",
       "    </tr>\n",
       "    <tr>\n",
       "      <th>created_at</th>\n",
       "      <th></th>\n",
       "      <th></th>\n",
       "    </tr>\n",
       "  </thead>\n",
       "  <tbody>\n",
       "    <tr>\n",
       "      <th>Sun Nov 29 00:55:39 +0000 2015</th>\n",
       "      <td>en</td>\n",
       "      <td>Six pairs of socks for $3 @OldNavy (40% discou...</td>\n",
       "    </tr>\n",
       "    <tr>\n",
       "      <th>Sun Nov 29 00:55:41 +0000 2015</th>\n",
       "      <td>in</td>\n",
       "      <td>@KSGian_KaJenian @ksgkicutiepie kaisi galat fe...</td>\n",
       "    </tr>\n",
       "    <tr>\n",
       "      <th>Sun Nov 29 00:55:52 +0000 2015</th>\n",
       "      <td>pt</td>\n",
       "      <td>RT @esquecimedisto: Eu adoro os lenços d zara ...</td>\n",
       "    </tr>\n",
       "    <tr>\n",
       "      <th>Sun Nov 29 00:56:02 +0000 2015</th>\n",
       "      <td>en</td>\n",
       "      <td>Hensem https://t.co/X23ne5SPKi</td>\n",
       "    </tr>\n",
       "    <tr>\n",
       "      <th>Sun Nov 29 00:56:09 +0000 2015</th>\n",
       "      <td>en</td>\n",
       "      <td>Weekend binges include some goodies from @Fore...</td>\n",
       "    </tr>\n",
       "  </tbody>\n",
       "</table>\n",
       "</div>"
      ],
      "text/plain": [
       "                               lang  \\\n",
       "created_at                            \n",
       "Sun Nov 29 00:55:39 +0000 2015   en   \n",
       "Sun Nov 29 00:55:41 +0000 2015   in   \n",
       "Sun Nov 29 00:55:52 +0000 2015   pt   \n",
       "Sun Nov 29 00:56:02 +0000 2015   en   \n",
       "Sun Nov 29 00:56:09 +0000 2015   en   \n",
       "\n",
       "                                                                             text  \n",
       "created_at                                                                         \n",
       "Sun Nov 29 00:55:39 +0000 2015  Six pairs of socks for $3 @OldNavy (40% discou...  \n",
       "Sun Nov 29 00:55:41 +0000 2015  @KSGian_KaJenian @ksgkicutiepie kaisi galat fe...  \n",
       "Sun Nov 29 00:55:52 +0000 2015  RT @esquecimedisto: Eu adoro os lenços d zara ...  \n",
       "Sun Nov 29 00:56:02 +0000 2015                     Hensem https://t.co/X23ne5SPKi  \n",
       "Sun Nov 29 00:56:09 +0000 2015  Weekend binges include some goodies from @Fore...  "
      ]
     },
     "execution_count": 9,
     "metadata": {},
     "output_type": "execute_result"
    }
   ],
   "source": [
    "tweet_df.head()"
   ]
  },
  {
   "cell_type": "markdown",
   "metadata": {},
   "source": [
    "### Change the name of the Columns"
   ]
  },
  {
   "cell_type": "code",
   "execution_count": 10,
   "metadata": {
    "collapsed": true
   },
   "outputs": [],
   "source": [
    "tweet_df = tweet_df.rename(columns = {\n",
    "    'lang':'language',\n",
    "    'text':'tweet',\n",
    "})\n"
   ]
  },
  {
   "cell_type": "code",
   "execution_count": 11,
   "metadata": {
    "collapsed": false
   },
   "outputs": [
    {
     "data": {
      "text/html": [
       "<div>\n",
       "<table border=\"1\" class=\"dataframe\">\n",
       "  <thead>\n",
       "    <tr style=\"text-align: right;\">\n",
       "      <th></th>\n",
       "      <th>language</th>\n",
       "      <th>tweet</th>\n",
       "    </tr>\n",
       "    <tr>\n",
       "      <th>created_at</th>\n",
       "      <th></th>\n",
       "      <th></th>\n",
       "    </tr>\n",
       "  </thead>\n",
       "  <tbody>\n",
       "    <tr>\n",
       "      <th>Sun Nov 29 07:52:10 +0000 2015</th>\n",
       "      <td>en</td>\n",
       "      <td>https://t.co/0behT2AKwZ ZARA BNWT Raincoat Wit...</td>\n",
       "    </tr>\n",
       "    <tr>\n",
       "      <th>Sun Nov 29 07:52:26 +0000 2015</th>\n",
       "      <td>hi</td>\n",
       "      <td>^._.Nadaani Ki Hadd Hain Zara Dekho To Ussay._...</td>\n",
       "    </tr>\n",
       "    <tr>\n",
       "      <th>Sun Nov 29 07:52:32 +0000 2015</th>\n",
       "      <td>ja</td>\n",
       "      <td>RT @yabebu: BI FINAL ツアーTシャツ \\nZARA ブレザー\\nBP フ...</td>\n",
       "    </tr>\n",
       "    <tr>\n",
       "      <th>Sun Nov 29 07:52:33 +0000 2015</th>\n",
       "      <td>ja</td>\n",
       "      <td>ZARAでお買い物💸💸😂😂</td>\n",
       "    </tr>\n",
       "    <tr>\n",
       "      <th>Sun Nov 29 07:53:03 +0000 2015</th>\n",
       "      <td>in</td>\n",
       "      <td>RT @chauhdrii_saab: Zara sa has k jo dekha tu ...</td>\n",
       "    </tr>\n",
       "  </tbody>\n",
       "</table>\n",
       "</div>"
      ],
      "text/plain": [
       "                               language  \\\n",
       "created_at                                \n",
       "Sun Nov 29 07:52:10 +0000 2015       en   \n",
       "Sun Nov 29 07:52:26 +0000 2015       hi   \n",
       "Sun Nov 29 07:52:32 +0000 2015       ja   \n",
       "Sun Nov 29 07:52:33 +0000 2015       ja   \n",
       "Sun Nov 29 07:53:03 +0000 2015       in   \n",
       "\n",
       "                                                                            tweet  \n",
       "created_at                                                                         \n",
       "Sun Nov 29 07:52:10 +0000 2015  https://t.co/0behT2AKwZ ZARA BNWT Raincoat Wit...  \n",
       "Sun Nov 29 07:52:26 +0000 2015  ^._.Nadaani Ki Hadd Hain Zara Dekho To Ussay._...  \n",
       "Sun Nov 29 07:52:32 +0000 2015  RT @yabebu: BI FINAL ツアーTシャツ \\nZARA ブレザー\\nBP フ...  \n",
       "Sun Nov 29 07:52:33 +0000 2015                                      ZARAでお買い物💸💸😂😂  \n",
       "Sun Nov 29 07:53:03 +0000 2015  RT @chauhdrii_saab: Zara sa has k jo dekha tu ...  "
      ]
     },
     "execution_count": 11,
     "metadata": {},
     "output_type": "execute_result"
    }
   ],
   "source": [
    "tweet_df.tail()"
   ]
  },
  {
   "cell_type": "code",
   "execution_count": 12,
   "metadata": {
    "collapsed": false
   },
   "outputs": [
    {
     "data": {
      "text/html": [
       "<div>\n",
       "<table border=\"1\" class=\"dataframe\">\n",
       "  <thead>\n",
       "    <tr style=\"text-align: right;\">\n",
       "      <th></th>\n",
       "      <th>language</th>\n",
       "      <th>tweet</th>\n",
       "    </tr>\n",
       "    <tr>\n",
       "      <th>created_at</th>\n",
       "      <th></th>\n",
       "      <th></th>\n",
       "    </tr>\n",
       "  </thead>\n",
       "  <tbody>\n",
       "    <tr>\n",
       "      <th>Sun Nov 29 07:52:10 +0000 2015</th>\n",
       "      <td>en</td>\n",
       "      <td>https://t.co/0behT2AKwZ ZARA BNWT Raincoat Wit...</td>\n",
       "    </tr>\n",
       "    <tr>\n",
       "      <th>Sun Nov 29 07:52:26 +0000 2015</th>\n",
       "      <td>hi</td>\n",
       "      <td>^._.Nadaani Ki Hadd Hain Zara Dekho To Ussay._...</td>\n",
       "    </tr>\n",
       "    <tr>\n",
       "      <th>Sun Nov 29 07:52:32 +0000 2015</th>\n",
       "      <td>ja</td>\n",
       "      <td>RT @yabebu: BI FINAL ツアーTシャツ \\nZARA ブレザー\\nBP フ...</td>\n",
       "    </tr>\n",
       "    <tr>\n",
       "      <th>Sun Nov 29 07:52:33 +0000 2015</th>\n",
       "      <td>ja</td>\n",
       "      <td>ZARAでお買い物💸💸😂😂</td>\n",
       "    </tr>\n",
       "    <tr>\n",
       "      <th>Sun Nov 29 07:53:03 +0000 2015</th>\n",
       "      <td>in</td>\n",
       "      <td>RT @chauhdrii_saab: Zara sa has k jo dekha tu ...</td>\n",
       "    </tr>\n",
       "  </tbody>\n",
       "</table>\n",
       "</div>"
      ],
      "text/plain": [
       "                               language  \\\n",
       "created_at                                \n",
       "Sun Nov 29 07:52:10 +0000 2015       en   \n",
       "Sun Nov 29 07:52:26 +0000 2015       hi   \n",
       "Sun Nov 29 07:52:32 +0000 2015       ja   \n",
       "Sun Nov 29 07:52:33 +0000 2015       ja   \n",
       "Sun Nov 29 07:53:03 +0000 2015       in   \n",
       "\n",
       "                                                                            tweet  \n",
       "created_at                                                                         \n",
       "Sun Nov 29 07:52:10 +0000 2015  https://t.co/0behT2AKwZ ZARA BNWT Raincoat Wit...  \n",
       "Sun Nov 29 07:52:26 +0000 2015  ^._.Nadaani Ki Hadd Hain Zara Dekho To Ussay._...  \n",
       "Sun Nov 29 07:52:32 +0000 2015  RT @yabebu: BI FINAL ツアーTシャツ \\nZARA ブレザー\\nBP フ...  \n",
       "Sun Nov 29 07:52:33 +0000 2015                                      ZARAでお買い物💸💸😂😂  \n",
       "Sun Nov 29 07:53:03 +0000 2015  RT @chauhdrii_saab: Zara sa has k jo dekha tu ...  "
      ]
     },
     "execution_count": 12,
     "metadata": {},
     "output_type": "execute_result"
    }
   ],
   "source": [
    "tweet_df.tail()"
   ]
  },
  {
   "cell_type": "code",
   "execution_count": 13,
   "metadata": {
    "collapsed": false
   },
   "outputs": [
    {
     "name": "stdout",
     "output_type": "stream",
     "text": [
      "<class 'pandas.core.frame.DataFrame'>\n",
      "Index: 4555 entries, Sun Nov 29 00:55:39 +0000 2015 to Sun Nov 29 07:53:03 +0000 2015\n",
      "Data columns (total 2 columns):\n",
      "language    4555 non-null object\n",
      "tweet       4555 non-null object\n",
      "dtypes: object(2)\n",
      "memory usage: 106.8+ KB\n"
     ]
    }
   ],
   "source": [
    "tweet_df.info()"
   ]
  },
  {
   "cell_type": "markdown",
   "metadata": {},
   "source": [
    "### Let Our Analysis Begin"
   ]
  },
  {
   "cell_type": "code",
   "execution_count": 50,
   "metadata": {
    "collapsed": false
   },
   "outputs": [
    {
     "data": {
      "text/html": [
       "<iframe src=\"//giphy.com/embed/VVgRNcBKp64NO?html5=true\" width=\"480\" height=\"199\" frameBorder=\"0\" class=\"giphy-embed\" allowFullScreen></iframe><p><a href=\"http://giphy.com/gifs/neil-degrasse-tyson-VVgRNcBKp64NO\">via GIPHY</a></p>"
      ],
      "text/plain": [
       "<IPython.core.display.HTML object>"
      ]
     },
     "metadata": {},
     "output_type": "display_data"
    }
   ],
   "source": [
    "%%html\n",
    "<iframe src=\"//giphy.com/embed/VVgRNcBKp64NO?html5=true\" width=\"480\" height=\"199\" frameBorder=\"0\" class=\"giphy-embed\" allowFullScreen></iframe><p><a href=\"http://giphy.com/gifs/neil-degrasse-tyson-VVgRNcBKp64NO\">via GIPHY</a></p>"
   ]
  },
  {
   "cell_type": "code",
   "execution_count": 14,
   "metadata": {
    "collapsed": true
   },
   "outputs": [],
   "source": [
    "def word_in_text(word, tweet):\n",
    "    word = word.lower()\n",
    "    tweet = tweet.lower()\n",
    "    match = re.search(word, tweet)\n",
    "    if match:\n",
    "        return True\n",
    "    return False"
   ]
  },
  {
   "cell_type": "code",
   "execution_count": 16,
   "metadata": {
    "collapsed": false
   },
   "outputs": [],
   "source": [
    "tweet_df['oldnavy'] = tweet_df['tweet'].apply(lambda tweet: word_in_text('oldnavy', tweet))\n",
    "tweet_df['forever21'] = tweet_df['tweet'].apply(lambda tweet: word_in_text('forever21', tweet))\n",
    "tweet_df['zara'] = tweet_df['tweet'].apply(lambda tweet: word_in_text('zara', tweet))"
   ]
  },
  {
   "cell_type": "code",
   "execution_count": 11,
   "metadata": {
    "collapsed": false
   },
   "outputs": [
    {
     "data": {
      "text/html": [
       "<div>\n",
       "<table border=\"1\" class=\"dataframe\">\n",
       "  <thead>\n",
       "    <tr style=\"text-align: right;\">\n",
       "      <th></th>\n",
       "      <th>lang</th>\n",
       "      <th>text</th>\n",
       "      <th>oldnavy</th>\n",
       "      <th>forever21</th>\n",
       "      <th>zara</th>\n",
       "    </tr>\n",
       "    <tr>\n",
       "      <th>created_at</th>\n",
       "      <th></th>\n",
       "      <th></th>\n",
       "      <th></th>\n",
       "      <th></th>\n",
       "      <th></th>\n",
       "    </tr>\n",
       "  </thead>\n",
       "  <tbody>\n",
       "    <tr>\n",
       "      <th>Sun Nov 29 00:55:39 +0000 2015</th>\n",
       "      <td>en</td>\n",
       "      <td>Six pairs of socks for $3 @OldNavy (40% discou...</td>\n",
       "      <td>True</td>\n",
       "      <td>False</td>\n",
       "      <td>False</td>\n",
       "    </tr>\n",
       "    <tr>\n",
       "      <th>Sun Nov 29 00:55:41 +0000 2015</th>\n",
       "      <td>in</td>\n",
       "      <td>@KSGian_KaJenian @ksgkicutiepie kaisi galat fe...</td>\n",
       "      <td>False</td>\n",
       "      <td>False</td>\n",
       "      <td>True</td>\n",
       "    </tr>\n",
       "    <tr>\n",
       "      <th>Sun Nov 29 00:55:52 +0000 2015</th>\n",
       "      <td>pt</td>\n",
       "      <td>RT @esquecimedisto: Eu adoro os lenços d zara ...</td>\n",
       "      <td>False</td>\n",
       "      <td>False</td>\n",
       "      <td>True</td>\n",
       "    </tr>\n",
       "    <tr>\n",
       "      <th>Sun Nov 29 00:56:02 +0000 2015</th>\n",
       "      <td>en</td>\n",
       "      <td>Hensem https://t.co/X23ne5SPKi</td>\n",
       "      <td>False</td>\n",
       "      <td>False</td>\n",
       "      <td>False</td>\n",
       "    </tr>\n",
       "    <tr>\n",
       "      <th>Sun Nov 29 00:56:09 +0000 2015</th>\n",
       "      <td>en</td>\n",
       "      <td>Weekend binges include some goodies from @Fore...</td>\n",
       "      <td>False</td>\n",
       "      <td>True</td>\n",
       "      <td>False</td>\n",
       "    </tr>\n",
       "  </tbody>\n",
       "</table>\n",
       "</div>"
      ],
      "text/plain": [
       "                               lang  \\\n",
       "created_at                            \n",
       "Sun Nov 29 00:55:39 +0000 2015   en   \n",
       "Sun Nov 29 00:55:41 +0000 2015   in   \n",
       "Sun Nov 29 00:55:52 +0000 2015   pt   \n",
       "Sun Nov 29 00:56:02 +0000 2015   en   \n",
       "Sun Nov 29 00:56:09 +0000 2015   en   \n",
       "\n",
       "                                                                             text  \\\n",
       "created_at                                                                          \n",
       "Sun Nov 29 00:55:39 +0000 2015  Six pairs of socks for $3 @OldNavy (40% discou...   \n",
       "Sun Nov 29 00:55:41 +0000 2015  @KSGian_KaJenian @ksgkicutiepie kaisi galat fe...   \n",
       "Sun Nov 29 00:55:52 +0000 2015  RT @esquecimedisto: Eu adoro os lenços d zara ...   \n",
       "Sun Nov 29 00:56:02 +0000 2015                     Hensem https://t.co/X23ne5SPKi   \n",
       "Sun Nov 29 00:56:09 +0000 2015  Weekend binges include some goodies from @Fore...   \n",
       "\n",
       "                               oldnavy forever21   zara  \n",
       "created_at                                               \n",
       "Sun Nov 29 00:55:39 +0000 2015    True     False  False  \n",
       "Sun Nov 29 00:55:41 +0000 2015   False     False   True  \n",
       "Sun Nov 29 00:55:52 +0000 2015   False     False   True  \n",
       "Sun Nov 29 00:56:02 +0000 2015   False     False  False  \n",
       "Sun Nov 29 00:56:09 +0000 2015   False      True  False  "
      ]
     },
     "execution_count": 11,
     "metadata": {},
     "output_type": "execute_result"
    }
   ],
   "source": [
    "tweet_df.head()"
   ]
  },
  {
   "cell_type": "code",
   "execution_count": 64,
   "metadata": {
    "collapsed": false
   },
   "outputs": [
    {
     "name": "stdout",
     "output_type": "stream",
     "text": [
      "Old Navy mentions: 150\n",
      "Forever21 mentions: 347\n",
      "Zara mentions: 3909\n"
     ]
    }
   ],
   "source": [
    "oldnavy = tweet_df['oldnavy'].value_counts()[True]\n",
    "forever21 = tweet_df['forever21'].value_counts()[True]\n",
    "zara = tweet_df['zara'].value_counts()[True]\n",
    "\n",
    "\n",
    "print('Old Navy mentions:',oldnavy)\n",
    "print('Forever21 mentions:', forever21)\n",
    "print('Zara mentions:', zara)"
   ]
  },
  {
   "cell_type": "code",
   "execution_count": 49,
   "metadata": {
    "collapsed": false
   },
   "outputs": [
    {
     "data": {
      "text/plain": [
       "<matplotlib.axes._subplots.AxesSubplot at 0x10f58e438>"
      ]
     },
     "execution_count": 49,
     "metadata": {},
     "output_type": "execute_result"
    },
    {
     "data": {
      "image/png": "[encoded data removed]",
      "text/plain": [
       "<matplotlib.figure.Figure at 0x10f58e278>"
      ]
     },
     "metadata": {},
     "output_type": "display_data"
    }
   ],
   "source": [
    "#Top 3 languages tweeting about fashion\n",
    "language = tweet_df['language'].value_counts()\n",
    "\n",
    "fig, ax = plt.subplots()\n",
    "ax.tick_params(axis='x', labelsize=15)\n",
    "ax.tick_params(axis='y', labelsize=10)\n",
    "ax.set_xlabel('Languages', fontsize=15)\n",
    "ax.set_ylabel('Number of tweets' , fontsize=15)\n",
    "ax.set_title('Top 3 languages tweeting about fashion', fontsize=15, fontweight='bold')\n",
    "language[:4].plot(ax=ax, kind='bar', color='blue')"
   ]
  },
  {
   "cell_type": "markdown",
   "metadata": {},
   "source": [
    "### Share your data with your colleague or friend"
   ]
  },
  {
   "cell_type": "code",
   "execution_count": 15,
   "metadata": {
    "collapsed": false
   },
   "outputs": [],
   "source": [
    "tweet_df.to_csv('twitter_fashion.csv')"
   ]
  }
 ],
 "metadata": {
  "kernelspec": {
   "display_name": "Python 3",
   "language": "python",
   "name": "python3"
  },
  "language_info": {
   "codemirror_mode": {
    "name": "ipython",
    "version": 3
   },
   "file_extension": ".py",
   "mimetype": "text/x-python",
   "name": "python",
   "nbconvert_exporter": "python",
   "pygments_lexer": "ipython3",
   "version": "3.5.0"
  }
 },
 "nbformat": 4,
 "nbformat_minor": 0
}
